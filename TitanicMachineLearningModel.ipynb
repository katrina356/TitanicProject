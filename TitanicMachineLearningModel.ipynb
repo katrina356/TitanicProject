{
 "cells": [
  {
   "cell_type": "code",
   "execution_count": null,
   "id": "dccabca8",
   "metadata": {},
   "outputs": [],
   "source": [
    "# !pip install sqlalchemy==1.4.7\n",
    "# !pip install ibm_db_sa\n",
    "# !pip install ipython-sql"
   ]
  },
  {
   "cell_type": "code",
   "execution_count": 1,
   "id": "59326512",
   "metadata": {},
   "outputs": [],
   "source": [
    "# found panadas_profiling in a Titanic machine learning article. Had to run in Python Data environment.\n",
    "import pandas as pd\n",
    "from pandas_profiling import ProfileReport\n",
    "from sqlalchemy import create_engine\n",
    "from sqlalchemy import inspect"
   ]
  },
  {
   "cell_type": "code",
   "execution_count": null,
   "id": "305d3ab0",
   "metadata": {},
   "outputs": [],
   "source": [
    "# Load SQL using ipython-sql\n",
    "# %load_ext sql"
   ]
  },
  {
   "cell_type": "code",
   "execution_count": null,
   "id": "3404656e",
   "metadata": {},
   "outputs": [],
   "source": [
    "# import os"
   ]
  },
  {
   "cell_type": "code",
   "execution_count": 2,
   "id": "de2c1d37",
   "metadata": {},
   "outputs": [],
   "source": [
    "host = \"localhost\"\n",
    "database = \"Titanic_Combined_sql\"\n",
    "user = \"postgres\"\n",
    "password = \"@Princess21\""
   ]
  },
  {
   "cell_type": "code",
   "execution_count": null,
   "id": "ac8270cc",
   "metadata": {},
   "outputs": [],
   "source": [
    "# connection_string = f\"postgresql://{user}:{password}@{host}/{database}\""
   ]
  },
  {
   "cell_type": "code",
   "execution_count": null,
   "id": "ee1315b9",
   "metadata": {},
   "outputs": [],
   "source": [
    "# %sql $connection_string"
   ]
  },
  {
   "cell_type": "code",
   "execution_count": null,
   "id": "d43d755c",
   "metadata": {},
   "outputs": [],
   "source": [
    "# %%sql \n",
    "# SELECT * from titanic_combined_sql LIMIT 10"
   ]
  },
  {
   "cell_type": "code",
   "execution_count": 3,
   "id": "4b88630b",
   "metadata": {},
   "outputs": [],
   "source": [
    "# Import SQL into Jupyter - Module 8.5.1 code\n",
    "db_string = f\"postgresql://{user}:{password}@{host}/{database}\""
   ]
  },
  {
   "cell_type": "code",
   "execution_count": 4,
   "id": "9da77e26",
   "metadata": {},
   "outputs": [],
   "source": [
    "engine = create_engine(db_string)"
   ]
  },
  {
   "cell_type": "code",
   "execution_count": 5,
   "id": "d069708c",
   "metadata": {},
   "outputs": [
    {
     "data": {
      "text/plain": [
       "['rms_titanic_passengers_and_crew',\n",
       " 'rms_titanic_country_of_residency',\n",
       " 'titanic',\n",
       " 'titanic_survivors',\n",
       " 'titanic_combined_sql',\n",
       " 'filtered_data']"
      ]
     },
     "execution_count": 5,
     "metadata": {},
     "output_type": "execute_result"
    }
   ],
   "source": [
    "insp = inspect(engine)\n",
    "insp.get_table_names()"
   ]
  },
  {
   "cell_type": "code",
   "execution_count": 29,
   "id": "3c04fa17",
   "metadata": {},
   "outputs": [
    {
     "ename": "SyntaxError",
     "evalue": "EOL while scanning string literal (<ipython-input-29-b1600e2b512b>, line 3)",
     "output_type": "error",
     "traceback": [
      "\u001b[1;36m  File \u001b[1;32m\"<ipython-input-29-b1600e2b512b>\"\u001b[1;36m, line \u001b[1;32m3\u001b[0m\n\u001b[1;33m    LEFT JOIN rms_titanic_country_of_residency ON r.mainID = r.mainID)\u001b[0m\n\u001b[1;37m                                                                      \n^\u001b[0m\n\u001b[1;31mSyntaxError\u001b[0m\u001b[1;31m:\u001b[0m EOL while scanning string literal\n"
     ]
    }
   ],
   "source": [
    "# Create a JOIN. Join 2 tables from SQL\n",
    "titanic_combined = 'SELECT * FROM rms_titanic_passengers_and_crew \\\n",
    "                    LEFT JOIN rms_titanic_country_of_residency ON r.mainID = r.mainID)\n",
    "engine(titanic_combined) \n",
    "result_set = engine.fetchall()\n",
    "result_set.head()\n"
   ]
  },
  {
   "cell_type": "code",
   "execution_count": 30,
   "id": "d5e0bdb6",
   "metadata": {},
   "outputs": [
    {
     "data": {
      "text/html": [
       "<div>\n",
       "<style scoped>\n",
       "    .dataframe tbody tr th:only-of-type {\n",
       "        vertical-align: middle;\n",
       "    }\n",
       "\n",
       "    .dataframe tbody tr th {\n",
       "        vertical-align: top;\n",
       "    }\n",
       "\n",
       "    .dataframe thead th {\n",
       "        text-align: right;\n",
       "    }\n",
       "</style>\n",
       "<table border=\"1\" class=\"dataframe\">\n",
       "  <thead>\n",
       "    <tr style=\"text-align: right;\">\n",
       "      <th></th>\n",
       "      <th>index</th>\n",
       "      <th>passenger_name</th>\n",
       "      <th>born</th>\n",
       "      <th>died</th>\n",
       "      <th>age</th>\n",
       "      <th>age_at_death</th>\n",
       "      <th>gender</th>\n",
       "      <th>marital_status</th>\n",
       "      <th>category</th>\n",
       "      <th>ticket_class</th>\n",
       "      <th>...</th>\n",
       "      <th>job</th>\n",
       "      <th>pclass</th>\n",
       "      <th>survived</th>\n",
       "      <th>sibsp</th>\n",
       "      <th>parch</th>\n",
       "      <th>fare</th>\n",
       "      <th>boat</th>\n",
       "      <th>body</th>\n",
       "      <th>country_id2</th>\n",
       "      <th>survived_y_n</th>\n",
       "    </tr>\n",
       "  </thead>\n",
       "  <tbody>\n",
       "    <tr>\n",
       "      <th>0</th>\n",
       "      <td>1000</td>\n",
       "      <td>Cohen Gurshon</td>\n",
       "      <td>1892.0</td>\n",
       "      <td>1978.0</td>\n",
       "      <td>19.0</td>\n",
       "      <td>85.0</td>\n",
       "      <td>Male</td>\n",
       "      <td>Single</td>\n",
       "      <td>Passenger</td>\n",
       "      <td>3rd Class</td>\n",
       "      <td>...</td>\n",
       "      <td>Printer / Compositor</td>\n",
       "      <td>None</td>\n",
       "      <td>NaN</td>\n",
       "      <td>NaN</td>\n",
       "      <td>NaN</td>\n",
       "      <td>NaN</td>\n",
       "      <td>None</td>\n",
       "      <td>None</td>\n",
       "      <td>359</td>\n",
       "      <td>1.0</td>\n",
       "    </tr>\n",
       "    <tr>\n",
       "      <th>1</th>\n",
       "      <td>1005</td>\n",
       "      <td>Colgan Joseph</td>\n",
       "      <td>1879.0</td>\n",
       "      <td>NaN</td>\n",
       "      <td>33.0</td>\n",
       "      <td>NaN</td>\n",
       "      <td>Male</td>\n",
       "      <td>None</td>\n",
       "      <td>Crew</td>\n",
       "      <td>Victualling</td>\n",
       "      <td>...</td>\n",
       "      <td>Scullion</td>\n",
       "      <td>None</td>\n",
       "      <td>NaN</td>\n",
       "      <td>NaN</td>\n",
       "      <td>NaN</td>\n",
       "      <td>NaN</td>\n",
       "      <td>None</td>\n",
       "      <td>None</td>\n",
       "      <td>363</td>\n",
       "      <td>1.0</td>\n",
       "    </tr>\n",
       "    <tr>\n",
       "      <th>2</th>\n",
       "      <td>1007</td>\n",
       "      <td>Collett Sidney Clarence Stuart</td>\n",
       "      <td>1887.0</td>\n",
       "      <td>1941.0</td>\n",
       "      <td>25.0</td>\n",
       "      <td>53.0</td>\n",
       "      <td>Male</td>\n",
       "      <td>Single</td>\n",
       "      <td>Passenger</td>\n",
       "      <td>2nd Class</td>\n",
       "      <td>...</td>\n",
       "      <td>None</td>\n",
       "      <td>None</td>\n",
       "      <td>NaN</td>\n",
       "      <td>NaN</td>\n",
       "      <td>NaN</td>\n",
       "      <td>NaN</td>\n",
       "      <td>None</td>\n",
       "      <td>None</td>\n",
       "      <td>364</td>\n",
       "      <td>1.0</td>\n",
       "    </tr>\n",
       "    <tr>\n",
       "      <th>3</th>\n",
       "      <td>1009</td>\n",
       "      <td>Collins John</td>\n",
       "      <td>1874.0</td>\n",
       "      <td>1950.0</td>\n",
       "      <td>38.0</td>\n",
       "      <td>76.0</td>\n",
       "      <td>Male</td>\n",
       "      <td>Married</td>\n",
       "      <td>Crew</td>\n",
       "      <td>Engine</td>\n",
       "      <td>...</td>\n",
       "      <td>Fireman</td>\n",
       "      <td>None</td>\n",
       "      <td>NaN</td>\n",
       "      <td>NaN</td>\n",
       "      <td>NaN</td>\n",
       "      <td>NaN</td>\n",
       "      <td>None</td>\n",
       "      <td>None</td>\n",
       "      <td>365</td>\n",
       "      <td>1.0</td>\n",
       "    </tr>\n",
       "    <tr>\n",
       "      <th>4</th>\n",
       "      <td>1010</td>\n",
       "      <td>Collins John</td>\n",
       "      <td>1894.0</td>\n",
       "      <td>1941.0</td>\n",
       "      <td>17.0</td>\n",
       "      <td>46.0</td>\n",
       "      <td>Male</td>\n",
       "      <td>Single</td>\n",
       "      <td>Crew</td>\n",
       "      <td>Victualling</td>\n",
       "      <td>...</td>\n",
       "      <td>None</td>\n",
       "      <td>None</td>\n",
       "      <td>NaN</td>\n",
       "      <td>NaN</td>\n",
       "      <td>NaN</td>\n",
       "      <td>NaN</td>\n",
       "      <td>None</td>\n",
       "      <td>None</td>\n",
       "      <td>None</td>\n",
       "      <td>1.0</td>\n",
       "    </tr>\n",
       "  </tbody>\n",
       "</table>\n",
       "<p>5 rows × 27 columns</p>\n",
       "</div>"
      ],
      "text/plain": [
       "  index                  passenger_name    born    died   age  age_at_death  \\\n",
       "0  1000                   Cohen Gurshon  1892.0  1978.0  19.0          85.0   \n",
       "1  1005                   Colgan Joseph  1879.0     NaN  33.0           NaN   \n",
       "2  1007  Collett Sidney Clarence Stuart  1887.0  1941.0  25.0          53.0   \n",
       "3  1009                    Collins John  1874.0  1950.0  38.0          76.0   \n",
       "4  1010                    Collins John  1894.0  1941.0  17.0          46.0   \n",
       "\n",
       "  gender marital_status   category ticket_class  ...                   job  \\\n",
       "0   Male         Single  Passenger    3rd Class  ...  Printer / Compositor   \n",
       "1   Male           None       Crew  Victualling  ...              Scullion   \n",
       "2   Male         Single  Passenger    2nd Class  ...                  None   \n",
       "3   Male        Married       Crew       Engine  ...               Fireman   \n",
       "4   Male         Single       Crew  Victualling  ...                  None   \n",
       "\n",
       "  pclass survived sibsp parch fare  boat  body country_id2  survived_y_n  \n",
       "0   None      NaN   NaN   NaN  NaN  None  None         359           1.0  \n",
       "1   None      NaN   NaN   NaN  NaN  None  None         363           1.0  \n",
       "2   None      NaN   NaN   NaN  NaN  None  None         364           1.0  \n",
       "3   None      NaN   NaN   NaN  NaN  None  None         365           1.0  \n",
       "4   None      NaN   NaN   NaN  NaN  None  None        None           1.0  \n",
       "\n",
       "[5 rows x 27 columns]"
      ]
     },
     "execution_count": 30,
     "metadata": {},
     "output_type": "execute_result"
    }
   ],
   "source": [
    "# Import the data\n",
    "df_titanic = pd.read_sql('SELECT * FROM titanic_combined_sql', engine)\n",
    "df_titanic.head()"
   ]
  },
  {
   "cell_type": "code",
   "execution_count": 31,
   "id": "2a212502",
   "metadata": {},
   "outputs": [
    {
     "data": {
      "text/html": [
       "<div>\n",
       "<style scoped>\n",
       "    .dataframe tbody tr th:only-of-type {\n",
       "        vertical-align: middle;\n",
       "    }\n",
       "\n",
       "    .dataframe tbody tr th {\n",
       "        vertical-align: top;\n",
       "    }\n",
       "\n",
       "    .dataframe thead th {\n",
       "        text-align: right;\n",
       "    }\n",
       "</style>\n",
       "<table border=\"1\" class=\"dataframe\">\n",
       "  <thead>\n",
       "    <tr style=\"text-align: right;\">\n",
       "      <th></th>\n",
       "      <th>born</th>\n",
       "      <th>died</th>\n",
       "      <th>age</th>\n",
       "      <th>age_at_death</th>\n",
       "      <th>survived</th>\n",
       "      <th>sibsp</th>\n",
       "      <th>parch</th>\n",
       "      <th>fare</th>\n",
       "      <th>survived_y_n</th>\n",
       "    </tr>\n",
       "  </thead>\n",
       "  <tbody>\n",
       "    <tr>\n",
       "      <th>count</th>\n",
       "      <td>2885.000000</td>\n",
       "      <td>2453.000000</td>\n",
       "      <td>2885.000000</td>\n",
       "      <td>2454.000000</td>\n",
       "      <td>639.000000</td>\n",
       "      <td>639.000000</td>\n",
       "      <td>639.000000</td>\n",
       "      <td>639.000000</td>\n",
       "      <td>2911.000000</td>\n",
       "    </tr>\n",
       "    <tr>\n",
       "      <th>mean</th>\n",
       "      <td>1880.548700</td>\n",
       "      <td>1927.196494</td>\n",
       "      <td>30.963258</td>\n",
       "      <td>46.090465</td>\n",
       "      <td>0.483568</td>\n",
       "      <td>0.593114</td>\n",
       "      <td>0.525822</td>\n",
       "      <td>43.549655</td>\n",
       "      <td>0.244589</td>\n",
       "    </tr>\n",
       "    <tr>\n",
       "      <th>std</th>\n",
       "      <td>12.018167</td>\n",
       "      <td>22.436764</td>\n",
       "      <td>12.029410</td>\n",
       "      <td>23.531453</td>\n",
       "      <td>0.500121</td>\n",
       "      <td>0.930340</td>\n",
       "      <td>0.917715</td>\n",
       "      <td>58.804085</td>\n",
       "      <td>0.429917</td>\n",
       "    </tr>\n",
       "    <tr>\n",
       "      <th>min</th>\n",
       "      <td>1837.000000</td>\n",
       "      <td>1912.000000</td>\n",
       "      <td>0.000000</td>\n",
       "      <td>0.000000</td>\n",
       "      <td>0.000000</td>\n",
       "      <td>0.000000</td>\n",
       "      <td>0.000000</td>\n",
       "      <td>0.000000</td>\n",
       "      <td>0.000000</td>\n",
       "    </tr>\n",
       "    <tr>\n",
       "      <th>25%</th>\n",
       "      <td>1873.000000</td>\n",
       "      <td>1912.000000</td>\n",
       "      <td>23.000000</td>\n",
       "      <td>26.250000</td>\n",
       "      <td>0.000000</td>\n",
       "      <td>0.000000</td>\n",
       "      <td>0.000000</td>\n",
       "      <td>10.170850</td>\n",
       "      <td>0.000000</td>\n",
       "    </tr>\n",
       "    <tr>\n",
       "      <th>50%</th>\n",
       "      <td>1882.000000</td>\n",
       "      <td>1912.000000</td>\n",
       "      <td>29.000000</td>\n",
       "      <td>39.000000</td>\n",
       "      <td>0.000000</td>\n",
       "      <td>0.000000</td>\n",
       "      <td>0.000000</td>\n",
       "      <td>26.000000</td>\n",
       "      <td>0.000000</td>\n",
       "    </tr>\n",
       "    <tr>\n",
       "      <th>75%</th>\n",
       "      <td>1889.000000</td>\n",
       "      <td>1943.000000</td>\n",
       "      <td>38.000000</td>\n",
       "      <td>67.000000</td>\n",
       "      <td>1.000000</td>\n",
       "      <td>1.000000</td>\n",
       "      <td>1.000000</td>\n",
       "      <td>52.000000</td>\n",
       "      <td>0.000000</td>\n",
       "    </tr>\n",
       "    <tr>\n",
       "      <th>max</th>\n",
       "      <td>1912.000000</td>\n",
       "      <td>2009.000000</td>\n",
       "      <td>74.000000</td>\n",
       "      <td>104.000000</td>\n",
       "      <td>1.000000</td>\n",
       "      <td>5.000000</td>\n",
       "      <td>6.000000</td>\n",
       "      <td>512.329200</td>\n",
       "      <td>1.000000</td>\n",
       "    </tr>\n",
       "  </tbody>\n",
       "</table>\n",
       "</div>"
      ],
      "text/plain": [
       "              born         died          age  age_at_death    survived  \\\n",
       "count  2885.000000  2453.000000  2885.000000   2454.000000  639.000000   \n",
       "mean   1880.548700  1927.196494    30.963258     46.090465    0.483568   \n",
       "std      12.018167    22.436764    12.029410     23.531453    0.500121   \n",
       "min    1837.000000  1912.000000     0.000000      0.000000    0.000000   \n",
       "25%    1873.000000  1912.000000    23.000000     26.250000    0.000000   \n",
       "50%    1882.000000  1912.000000    29.000000     39.000000    0.000000   \n",
       "75%    1889.000000  1943.000000    38.000000     67.000000    1.000000   \n",
       "max    1912.000000  2009.000000    74.000000    104.000000    1.000000   \n",
       "\n",
       "            sibsp       parch        fare  survived_y_n  \n",
       "count  639.000000  639.000000  639.000000   2911.000000  \n",
       "mean     0.593114    0.525822   43.549655      0.244589  \n",
       "std      0.930340    0.917715   58.804085      0.429917  \n",
       "min      0.000000    0.000000    0.000000      0.000000  \n",
       "25%      0.000000    0.000000   10.170850      0.000000  \n",
       "50%      0.000000    0.000000   26.000000      0.000000  \n",
       "75%      1.000000    1.000000   52.000000      0.000000  \n",
       "max      5.000000    6.000000  512.329200      1.000000  "
      ]
     },
     "execution_count": 31,
     "metadata": {},
     "output_type": "execute_result"
    }
   ],
   "source": [
    "# describe the data set\n",
    "df_titanic.describe()"
   ]
  },
  {
   "cell_type": "code",
   "execution_count": null,
   "id": "3d69fa99",
   "metadata": {},
   "outputs": [],
   "source": [
    "# Learned and read from internet reading up on the Kaggle titanic project about Exploratory Data Analysis. This is using the panadas-profiling library.\n",
    "eda_report = ProfileReport(df_titanic)\n",
    "eda_report"
   ]
  },
  {
   "cell_type": "code",
   "execution_count": null,
   "id": "1f05ab64",
   "metadata": {},
   "outputs": [],
   "source": [
    "# Initial imports. This code is directly from Module 17.\n",
    "import matplotlib.pyplot as plt\n",
    "import numpy as np\n",
    "from sklearn.ensemble import RandomForestClassifier\n",
    "from sklearn.preprocessing import StandardScaler\n",
    "from sklearn.model_selection import train_test_split\n",
    "from sklearn.metrics import confusion_matrix, accuracy_score, classification_report"
   ]
  },
  {
   "cell_type": "code",
   "execution_count": null,
   "id": "16ad1c22",
   "metadata": {},
   "outputs": [],
   "source": [
    "# trying plt.subplot found in Titanc literature and verified on matplotlib - the base structure that is\n",
    "fig, ax = plt.subplots()\n",
    "count = df_titanic['gender'].value_counts(sort=False)\n",
    "survive_count = df_titanic.loc[df_titanic['survived'] == 1, ['gender']].value_counts(sort=False)\n",
    "ax.bar('Female', survive_count['Female']/count['Female'], color='purple')\n",
    "ax.bar('Male', survive_count['Male']/count['Male'], color='blue')\n",
    "ax.set_ylabel('% Survived')"
   ]
  },
  {
   "cell_type": "code",
   "execution_count": null,
   "id": "0fb2a421",
   "metadata": {},
   "outputs": [],
   "source": [
    "# Encode the dataset - From Module 17\n",
    "titanic_encoded = pd.get_dummies(df_titanic, columns=[\"Sex\", \"Embarked\"])\n",
    "titanic_encoded.head()"
   ]
  },
  {
   "cell_type": "code",
   "execution_count": null,
   "id": "0f4f205c",
   "metadata": {},
   "outputs": [],
   "source": [
    "# count the empty values\n",
    "titanic_encoded.isna().sum()"
   ]
  },
  {
   "cell_type": "code",
   "execution_count": null,
   "id": "c544c1d8",
   "metadata": {
    "scrolled": true
   },
   "outputs": [],
   "source": [
    "# Drop columns that missing rows or because it doesn't work \n",
    "titanic_encoded = titanic_encoded.drop(['Name', 'Ticket', 'Cabin'], axis = 1)"
   ]
  },
  {
   "cell_type": "code",
   "execution_count": null,
   "id": "de568b10",
   "metadata": {},
   "outputs": [],
   "source": [
    "# Remove rows missing values\n",
    "titanic_encoded = titanic_encoded.dropna(subset = ['Age'])"
   ]
  },
  {
   "cell_type": "code",
   "execution_count": null,
   "id": "41431fbe",
   "metadata": {},
   "outputs": [],
   "source": [
    "titanic_encoded.dtypes"
   ]
  },
  {
   "cell_type": "code",
   "execution_count": null,
   "id": "b1949209",
   "metadata": {},
   "outputs": [],
   "source": [
    "# Define the features set. From Module 17.8\n",
    "X = titanic_encoded.copy()\n",
    "X = X.drop(\"Survived\", axis=1)\n",
    "X.head()"
   ]
  },
  {
   "cell_type": "code",
   "execution_count": null,
   "id": "6abea1b7",
   "metadata": {},
   "outputs": [],
   "source": [
    "# Define the target set. From Module 17.8.\n",
    "y = titanic_encoded[\"Survived\"].ravel()\n",
    "y[:5]"
   ]
  },
  {
   "cell_type": "code",
   "execution_count": null,
   "id": "dcc1bbd1",
   "metadata": {},
   "outputs": [],
   "source": [
    "# Splitting into Train and Test sets. From Module 17.8.\n",
    "X_train, X_test, y_train, y_test = train_test_split(X, y, random_state=78)"
   ]
  },
  {
   "cell_type": "code",
   "execution_count": null,
   "id": "cc3f73aa",
   "metadata": {},
   "outputs": [],
   "source": [
    "# Creating a StandardScaler instance. From Module 17.8.\n",
    "scaler = StandardScaler()\n",
    "# Fitting the Standard Scaler with the training data.\n",
    "X_scaler = scaler.fit(X_train)\n",
    "\n",
    "# Scaling the data.\n",
    "X_train_scaled = X_scaler.transform(X_train)\n",
    "X_test_scaled = X_scaler.transform(X_test)"
   ]
  },
  {
   "cell_type": "code",
   "execution_count": null,
   "id": "7c9b2457",
   "metadata": {},
   "outputs": [],
   "source": [
    "# Create a random forest classifier. From Module 17.8.\n",
    "rf_model = RandomForestClassifier(n_estimators=10, random_state=0) "
   ]
  },
  {
   "cell_type": "code",
   "execution_count": null,
   "id": "c226fdc1",
   "metadata": {},
   "outputs": [],
   "source": [
    "# Fitting the model. From Module 17.8.\n",
    "rf_model = rf_model.fit(X_train_scaled, y_train)"
   ]
  },
  {
   "cell_type": "code",
   "execution_count": null,
   "id": "84ab67fe",
   "metadata": {},
   "outputs": [],
   "source": [
    "# Making predictions using the testing data. From Module 17.8.\n",
    "predictions = rf_model.predict(X_test_scaled)"
   ]
  },
  {
   "cell_type": "code",
   "execution_count": null,
   "id": "ac24a0c7",
   "metadata": {},
   "outputs": [],
   "source": [
    "# Calculating the confusion matrix. From Module 17.8.\n",
    "cm = confusion_matrix(y_test, predictions)\n",
    "\n",
    "# Create a DataFrame from the confusion matrix.\n",
    "cm_df = pd.DataFrame(\n",
    "    cm, index=[\"Actual 0\", \"Actual 1\"], columns=[\"Predicted 0\", \"Predicted 1\"])\n",
    "\n",
    "cm_df"
   ]
  },
  {
   "cell_type": "code",
   "execution_count": null,
   "id": "810d65c2",
   "metadata": {},
   "outputs": [],
   "source": [
    "# Calculating the accuracy score. From Module 17.8.\n",
    "acc_score = accuracy_score(y_test, predictions)"
   ]
  },
  {
   "cell_type": "code",
   "execution_count": null,
   "id": "fd5c66bb",
   "metadata": {},
   "outputs": [],
   "source": [
    "# Displaying results. From Module 17.8.\n",
    "print(\"Confusion Matrix\")\n",
    "display(cm_df)\n",
    "print(f\"Accuracy Score : {acc_score}\")\n",
    "print(\"Classification Report\")\n",
    "print(classification_report(y_test, predictions))"
   ]
  },
  {
   "cell_type": "code",
   "execution_count": null,
   "id": "37d79d37",
   "metadata": {},
   "outputs": [],
   "source": [
    "# Calculate feature importance in the Random Forest model. From Module 17.8.\n",
    "importances = rf_model.feature_importances_\n",
    "importances"
   ]
  },
  {
   "cell_type": "code",
   "execution_count": null,
   "id": "28ff6087",
   "metadata": {},
   "outputs": [],
   "source": [
    "# We can sort the features by their importance. From Module 17.8.\n",
    "sorted(zip(rf_model.feature_importances_, X.columns), reverse=True)"
   ]
  },
  {
   "cell_type": "code",
   "execution_count": null,
   "id": "ddf21977",
   "metadata": {},
   "outputs": [],
   "source": [
    "importances.plot.bar()"
   ]
  }
 ],
 "metadata": {
  "kernelspec": {
   "display_name": "PythonData",
   "language": "python",
   "name": "pythondata"
  },
  "language_info": {
   "codemirror_mode": {
    "name": "ipython",
    "version": 3
   },
   "file_extension": ".py",
   "mimetype": "text/x-python",
   "name": "python",
   "nbconvert_exporter": "python",
   "pygments_lexer": "ipython3",
   "version": "3.9.4"
  }
 },
 "nbformat": 4,
 "nbformat_minor": 5
}
